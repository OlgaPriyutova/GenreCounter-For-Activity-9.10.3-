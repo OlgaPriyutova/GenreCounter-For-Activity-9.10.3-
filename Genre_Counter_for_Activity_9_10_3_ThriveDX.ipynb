{
  "nbformat": 4,
  "nbformat_minor": 0,
  "metadata": {
    "colab": {
      "provenance": [],
      "collapsed_sections": [],
      "authorship_tag": "ABX9TyMnerdgtRIvLFgbNKVCrrXm",
      "include_colab_link": true
    },
    "kernelspec": {
      "name": "python3",
      "display_name": "Python 3"
    },
    "language_info": {
      "name": "python"
    }
  },
  "cells": [
    {
      "cell_type": "markdown",
      "metadata": {
        "id": "view-in-github",
        "colab_type": "text"
      },
      "source": [
        "<a href=\"https://colab.research.google.com/github/OlgaPriyutova/GenreCounter-For-Activity-9.10.3-/blob/main/Genre_Counter_for_Activity_9_10_3_ThriveDX.ipynb\" target=\"_parent\"><img src=\"https://colab.research.google.com/assets/colab-badge.svg\" alt=\"Open In Colab\"/></a>"
      ]
    },
    {
      "cell_type": "code",
      "source": [],
      "metadata": {
        "id": "AhFAOI3_jW7o"
      },
      "execution_count": 31,
      "outputs": []
    },
    {
      "cell_type": "code",
      "execution_count": 32,
      "metadata": {
        "id": "0TI1-gxFbOPo"
      },
      "outputs": [],
      "source": [
        "import pandas as pd\n",
        "import numpy as np\n"
      ]
    },
    {
      "cell_type": "code",
      "source": [
        "os = pd.read_csv('oscars_df.csv')\n",
        "os.head(3)"
      ],
      "metadata": {
        "colab": {
          "base_uri": "https://localhost:8080/",
          "height": 445
        },
        "id": "bkeHWDSfb2lG",
        "outputId": "66f7e958-90bf-4aea-e5fc-1846fd41bc1b"
      },
      "execution_count": 33,
      "outputs": [
        {
          "output_type": "execute_result",
          "data": {
            "text/plain": [
              "   Unnamed: 0        Film Oscar Year Film Studio/Producer(s)    Award  \\\n",
              "0           0       Wings    1927/28    Famous Players-Lasky   Winner   \n",
              "1           1  7th Heaven    1927/28                     Fox  Nominee   \n",
              "2           2  The Racket    1927/28       The Caddo Company  Nominee   \n",
              "\n",
              "   Year of Release  Movie Time            Movie Genre  IMDB Rating IMDB Votes  \\\n",
              "0             1927         144      Drama,Romance,War          7.5     12,221   \n",
              "1             1927         110          Drama,Romance          7.7      3,439   \n",
              "2             1928          84  Crime,Drama,Film-Noir          6.7      1,257   \n",
              "\n",
              "   ... Tomatometer Status Tomatometer Rating Tomatometer Count  \\\n",
              "0  ...    Certified-Fresh               93.0              46.0   \n",
              "1  ...                NaN                NaN               NaN   \n",
              "2  ...                NaN                NaN               NaN   \n",
              "\n",
              "  Audience Status Audience Rating Audience Count  \\\n",
              "0         Upright            78.0         3530.0   \n",
              "1             NaN             NaN            NaN   \n",
              "2             NaN             NaN            NaN   \n",
              "\n",
              "  Tomatometer Top Critics Count Tomatometer Fresh Critics Count  \\\n",
              "0                           9.0                            43.0   \n",
              "1                           NaN                             NaN   \n",
              "2                           NaN                             NaN   \n",
              "\n",
              "  Tomatometer Rotten Critics Count                               Film ID  \n",
              "0                              3.0  2becf7d5-a3de-46ab-ae45-abdd6b588067  \n",
              "1                              NaN  19ed3295-a878-4fd2-8e60-5cd7b5f93dad  \n",
              "2                              NaN  3111c2d8-0908-4093-8ff3-99c89f2f2f08  \n",
              "\n",
              "[3 rows x 30 columns]"
            ],
            "text/html": [
              "\n",
              "  <div id=\"df-2fde4e8d-c746-4451-ab09-2088c2ea68f7\">\n",
              "    <div class=\"colab-df-container\">\n",
              "      <div>\n",
              "<style scoped>\n",
              "    .dataframe tbody tr th:only-of-type {\n",
              "        vertical-align: middle;\n",
              "    }\n",
              "\n",
              "    .dataframe tbody tr th {\n",
              "        vertical-align: top;\n",
              "    }\n",
              "\n",
              "    .dataframe thead th {\n",
              "        text-align: right;\n",
              "    }\n",
              "</style>\n",
              "<table border=\"1\" class=\"dataframe\">\n",
              "  <thead>\n",
              "    <tr style=\"text-align: right;\">\n",
              "      <th></th>\n",
              "      <th>Unnamed: 0</th>\n",
              "      <th>Film</th>\n",
              "      <th>Oscar Year</th>\n",
              "      <th>Film Studio/Producer(s)</th>\n",
              "      <th>Award</th>\n",
              "      <th>Year of Release</th>\n",
              "      <th>Movie Time</th>\n",
              "      <th>Movie Genre</th>\n",
              "      <th>IMDB Rating</th>\n",
              "      <th>IMDB Votes</th>\n",
              "      <th>...</th>\n",
              "      <th>Tomatometer Status</th>\n",
              "      <th>Tomatometer Rating</th>\n",
              "      <th>Tomatometer Count</th>\n",
              "      <th>Audience Status</th>\n",
              "      <th>Audience Rating</th>\n",
              "      <th>Audience Count</th>\n",
              "      <th>Tomatometer Top Critics Count</th>\n",
              "      <th>Tomatometer Fresh Critics Count</th>\n",
              "      <th>Tomatometer Rotten Critics Count</th>\n",
              "      <th>Film ID</th>\n",
              "    </tr>\n",
              "  </thead>\n",
              "  <tbody>\n",
              "    <tr>\n",
              "      <th>0</th>\n",
              "      <td>0</td>\n",
              "      <td>Wings</td>\n",
              "      <td>1927/28</td>\n",
              "      <td>Famous Players-Lasky</td>\n",
              "      <td>Winner</td>\n",
              "      <td>1927</td>\n",
              "      <td>144</td>\n",
              "      <td>Drama,Romance,War</td>\n",
              "      <td>7.5</td>\n",
              "      <td>12,221</td>\n",
              "      <td>...</td>\n",
              "      <td>Certified-Fresh</td>\n",
              "      <td>93.0</td>\n",
              "      <td>46.0</td>\n",
              "      <td>Upright</td>\n",
              "      <td>78.0</td>\n",
              "      <td>3530.0</td>\n",
              "      <td>9.0</td>\n",
              "      <td>43.0</td>\n",
              "      <td>3.0</td>\n",
              "      <td>2becf7d5-a3de-46ab-ae45-abdd6b588067</td>\n",
              "    </tr>\n",
              "    <tr>\n",
              "      <th>1</th>\n",
              "      <td>1</td>\n",
              "      <td>7th Heaven</td>\n",
              "      <td>1927/28</td>\n",
              "      <td>Fox</td>\n",
              "      <td>Nominee</td>\n",
              "      <td>1927</td>\n",
              "      <td>110</td>\n",
              "      <td>Drama,Romance</td>\n",
              "      <td>7.7</td>\n",
              "      <td>3,439</td>\n",
              "      <td>...</td>\n",
              "      <td>NaN</td>\n",
              "      <td>NaN</td>\n",
              "      <td>NaN</td>\n",
              "      <td>NaN</td>\n",
              "      <td>NaN</td>\n",
              "      <td>NaN</td>\n",
              "      <td>NaN</td>\n",
              "      <td>NaN</td>\n",
              "      <td>NaN</td>\n",
              "      <td>19ed3295-a878-4fd2-8e60-5cd7b5f93dad</td>\n",
              "    </tr>\n",
              "    <tr>\n",
              "      <th>2</th>\n",
              "      <td>2</td>\n",
              "      <td>The Racket</td>\n",
              "      <td>1927/28</td>\n",
              "      <td>The Caddo Company</td>\n",
              "      <td>Nominee</td>\n",
              "      <td>1928</td>\n",
              "      <td>84</td>\n",
              "      <td>Crime,Drama,Film-Noir</td>\n",
              "      <td>6.7</td>\n",
              "      <td>1,257</td>\n",
              "      <td>...</td>\n",
              "      <td>NaN</td>\n",
              "      <td>NaN</td>\n",
              "      <td>NaN</td>\n",
              "      <td>NaN</td>\n",
              "      <td>NaN</td>\n",
              "      <td>NaN</td>\n",
              "      <td>NaN</td>\n",
              "      <td>NaN</td>\n",
              "      <td>NaN</td>\n",
              "      <td>3111c2d8-0908-4093-8ff3-99c89f2f2f08</td>\n",
              "    </tr>\n",
              "  </tbody>\n",
              "</table>\n",
              "<p>3 rows × 30 columns</p>\n",
              "</div>\n",
              "      <button class=\"colab-df-convert\" onclick=\"convertToInteractive('df-2fde4e8d-c746-4451-ab09-2088c2ea68f7')\"\n",
              "              title=\"Convert this dataframe to an interactive table.\"\n",
              "              style=\"display:none;\">\n",
              "        \n",
              "  <svg xmlns=\"http://www.w3.org/2000/svg\" height=\"24px\"viewBox=\"0 0 24 24\"\n",
              "       width=\"24px\">\n",
              "    <path d=\"M0 0h24v24H0V0z\" fill=\"none\"/>\n",
              "    <path d=\"M18.56 5.44l.94 2.06.94-2.06 2.06-.94-2.06-.94-.94-2.06-.94 2.06-2.06.94zm-11 1L8.5 8.5l.94-2.06 2.06-.94-2.06-.94L8.5 2.5l-.94 2.06-2.06.94zm10 10l.94 2.06.94-2.06 2.06-.94-2.06-.94-.94-2.06-.94 2.06-2.06.94z\"/><path d=\"M17.41 7.96l-1.37-1.37c-.4-.4-.92-.59-1.43-.59-.52 0-1.04.2-1.43.59L10.3 9.45l-7.72 7.72c-.78.78-.78 2.05 0 2.83L4 21.41c.39.39.9.59 1.41.59.51 0 1.02-.2 1.41-.59l7.78-7.78 2.81-2.81c.8-.78.8-2.07 0-2.86zM5.41 20L4 18.59l7.72-7.72 1.47 1.35L5.41 20z\"/>\n",
              "  </svg>\n",
              "      </button>\n",
              "      \n",
              "  <style>\n",
              "    .colab-df-container {\n",
              "      display:flex;\n",
              "      flex-wrap:wrap;\n",
              "      gap: 12px;\n",
              "    }\n",
              "\n",
              "    .colab-df-convert {\n",
              "      background-color: #E8F0FE;\n",
              "      border: none;\n",
              "      border-radius: 50%;\n",
              "      cursor: pointer;\n",
              "      display: none;\n",
              "      fill: #1967D2;\n",
              "      height: 32px;\n",
              "      padding: 0 0 0 0;\n",
              "      width: 32px;\n",
              "    }\n",
              "\n",
              "    .colab-df-convert:hover {\n",
              "      background-color: #E2EBFA;\n",
              "      box-shadow: 0px 1px 2px rgba(60, 64, 67, 0.3), 0px 1px 3px 1px rgba(60, 64, 67, 0.15);\n",
              "      fill: #174EA6;\n",
              "    }\n",
              "\n",
              "    [theme=dark] .colab-df-convert {\n",
              "      background-color: #3B4455;\n",
              "      fill: #D2E3FC;\n",
              "    }\n",
              "\n",
              "    [theme=dark] .colab-df-convert:hover {\n",
              "      background-color: #434B5C;\n",
              "      box-shadow: 0px 1px 3px 1px rgba(0, 0, 0, 0.15);\n",
              "      filter: drop-shadow(0px 1px 2px rgba(0, 0, 0, 0.3));\n",
              "      fill: #FFFFFF;\n",
              "    }\n",
              "  </style>\n",
              "\n",
              "      <script>\n",
              "        const buttonEl =\n",
              "          document.querySelector('#df-2fde4e8d-c746-4451-ab09-2088c2ea68f7 button.colab-df-convert');\n",
              "        buttonEl.style.display =\n",
              "          google.colab.kernel.accessAllowed ? 'block' : 'none';\n",
              "\n",
              "        async function convertToInteractive(key) {\n",
              "          const element = document.querySelector('#df-2fde4e8d-c746-4451-ab09-2088c2ea68f7');\n",
              "          const dataTable =\n",
              "            await google.colab.kernel.invokeFunction('convertToInteractive',\n",
              "                                                     [key], {});\n",
              "          if (!dataTable) return;\n",
              "\n",
              "          const docLinkHtml = 'Like what you see? Visit the ' +\n",
              "            '<a target=\"_blank\" href=https://colab.research.google.com/notebooks/data_table.ipynb>data table notebook</a>'\n",
              "            + ' to learn more about interactive tables.';\n",
              "          element.innerHTML = '';\n",
              "          dataTable['output_type'] = 'display_data';\n",
              "          await google.colab.output.renderOutput(dataTable, element);\n",
              "          const docLink = document.createElement('div');\n",
              "          docLink.innerHTML = docLinkHtml;\n",
              "          element.appendChild(docLink);\n",
              "        }\n",
              "      </script>\n",
              "    </div>\n",
              "  </div>\n",
              "  "
            ]
          },
          "metadata": {},
          "execution_count": 33
        }
      ]
    },
    {
      "cell_type": "code",
      "source": [
        "os.shape"
      ],
      "metadata": {
        "colab": {
          "base_uri": "https://localhost:8080/"
        },
        "id": "effZSYYOzxLY",
        "outputId": "1eec940c-d4d4-4fde-a7b5-35ab1fc6ef2f"
      },
      "execution_count": 49,
      "outputs": [
        {
          "output_type": "execute_result",
          "data": {
            "text/plain": [
              "(571, 30)"
            ]
          },
          "metadata": {},
          "execution_count": 49
        }
      ]
    },
    {
      "cell_type": "code",
      "source": [],
      "metadata": {
        "id": "J_Dn6HYocN7x"
      },
      "execution_count": 33,
      "outputs": []
    },
    {
      "cell_type": "code",
      "source": [
        "o = os[os['Award']=='Winner']['Movie Genre']\n",
        "o.head(5)\n"
      ],
      "metadata": {
        "colab": {
          "base_uri": "https://localhost:8080/"
        },
        "id": "s6IROKbCcOve",
        "outputId": "133e9661-220e-4546-c853-2c6684d31392"
      },
      "execution_count": 34,
      "outputs": [
        {
          "output_type": "execute_result",
          "data": {
            "text/plain": [
              "0         Drama,Romance,War\n",
              "3     Drama,Musical,Romance\n",
              "8                 Drama,War\n",
              "13            Drama,Western\n",
              "18            Drama,Romance\n",
              "Name: Movie Genre, dtype: object"
            ]
          },
          "metadata": {},
          "execution_count": 34
        }
      ]
    },
    {
      "cell_type": "code",
      "source": [
        "o.shape"
      ],
      "metadata": {
        "colab": {
          "base_uri": "https://localhost:8080/"
        },
        "id": "yTNuP5aR01PF",
        "outputId": "18700a4d-9a88-49d1-f490-715af9e2ab48"
      },
      "execution_count": 52,
      "outputs": [
        {
          "output_type": "execute_result",
          "data": {
            "text/plain": [
              "(93,)"
            ]
          },
          "metadata": {},
          "execution_count": 52
        }
      ]
    },
    {
      "cell_type": "code",
      "source": [
        "o.value_counts().head(10)"
      ],
      "metadata": {
        "colab": {
          "base_uri": "https://localhost:8080/"
        },
        "id": "g8W5WjA4lHlQ",
        "outputId": "c8bb0955-0d57-4da7-d797-40447c3c9481"
      },
      "execution_count": 35,
      "outputs": [
        {
          "output_type": "execute_result",
          "data": {
            "text/plain": [
              "Drama                      10\n",
              "Biography,Drama,History     8\n",
              "Drama,Romance,War           7\n",
              "Drama,Romance               6\n",
              "Crime,Drama,Thriller        5\n",
              "Comedy,Drama,Romance        3\n",
              "Drama,War                   3\n",
              "Drama,Western               2\n",
              "Drama,Family,Musical        2\n",
              "Drama,Musical,Romance       2\n",
              "Name: Movie Genre, dtype: int64"
            ]
          },
          "metadata": {},
          "execution_count": 35
        }
      ]
    },
    {
      "cell_type": "code",
      "source": [
        "o1 = o.str.split(',').to_list()"
      ],
      "metadata": {
        "id": "RCOI3RGnc-oO"
      },
      "execution_count": 36,
      "outputs": []
    },
    {
      "cell_type": "code",
      "source": [
        "print(o1)"
      ],
      "metadata": {
        "colab": {
          "base_uri": "https://localhost:8080/"
        },
        "id": "NkG-Pt7bgdZV",
        "outputId": "e449dc92-ab00-49fa-e31d-c4bc47071ff9"
      },
      "execution_count": 37,
      "outputs": [
        {
          "output_type": "stream",
          "name": "stdout",
          "text": [
            "[['Drama', 'Romance', 'War'], ['Drama', 'Musical', 'Romance'], ['Drama', 'War'], ['Drama', 'Western'], ['Drama', 'Romance'], ['Drama', 'Romance', 'War'], ['Comedy', 'Romance'], ['Adventure', 'Biography', 'Drama'], ['Biography', 'Drama', 'Musical'], ['Biography', 'Drama'], ['Comedy', 'Drama', 'Romance'], ['Drama', 'History', 'Romance'], ['Drama', 'Mystery', 'Romance'], ['Drama', 'Family'], ['Drama', 'Romance', 'War'], ['Drama', 'Romance', 'War'], ['Comedy', 'Drama', 'Music'], ['Drama', 'Film-Noir'], ['Drama', 'Romance', 'War'], ['Drama', 'Romance'], ['Drama'], ['Drama', 'Film-Noir'], ['Drama'], ['Drama', 'Musical', 'Romance'], ['Drama', 'Family', 'Romance'], ['Drama', 'Romance', 'War'], ['Crime', 'Drama', 'Thriller'], ['Drama', 'Romance'], ['Adventure', 'Comedy', 'Family'], ['Adventure', 'Drama', 'War'], ['Comedy', 'Musical', 'Romance'], ['Adventure', 'Drama', 'History'], ['Comedy', 'Drama', 'Romance'], ['Crime', 'Drama', 'Musical'], ['Adventure', 'Biography', 'Drama'], ['Adventure', 'Drama', 'History'], ['Adventure', 'Comedy', 'History'], ['Drama', 'Family', 'Musical'], ['Biography', 'Drama', 'Family'], ['Biography', 'Drama', 'History'], ['Crime', 'Drama', 'Mystery'], ['Drama', 'Family', 'Musical'], ['Drama'], ['Biography', 'Drama', 'War'], ['Action', 'Crime', 'Drama'], ['Crime', 'Drama'], ['Comedy', 'Crime', 'Drama'], ['Crime', 'Drama'], ['Drama'], ['Drama', 'Sport'], ['Comedy', 'Romance'], ['Drama', 'War'], ['Drama'], ['Drama'], ['Biography', 'Drama', 'Sport'], ['Biography', 'Drama', 'History'], ['Comedy', 'Drama'], ['Biography', 'Drama', 'History'], ['Biography', 'Drama', 'Romance'], ['Drama', 'War'], ['Biography', 'Drama', 'History'], ['Drama'], ['Drama'], ['Adventure', 'Drama', 'Western'], ['Crime', 'Drama', 'Thriller'], ['Drama', 'Western'], ['Biography', 'Drama', 'History'], ['Drama', 'Romance'], ['Biography', 'Drama', 'History'], ['Drama', 'Romance', 'War'], ['Drama', 'Romance'], ['Comedy', 'Drama', 'History'], ['Drama'], ['Action', 'Adventure', 'Drama'], ['Biography', 'Drama'], ['Comedy', 'Crime', 'Musical'], ['Action', 'Adventure', 'Drama'], ['Drama', 'Sport'], ['Crime', 'Drama', 'Thriller'], ['Crime', 'Drama', 'Thriller'], ['Crime', 'Drama', 'Thriller'], ['Drama', 'Romance'], ['Drama', 'Thriller', 'War'], ['Biography', 'Drama', 'History'], ['Comedy', 'Drama', 'Romance'], ['Biography', 'Drama', 'Thriller'], ['Biography', 'Drama', 'History'], ['Comedy', 'Drama'], ['Biography', 'Crime', 'Drama'], ['Drama'], ['Adventure', 'Drama', 'Fantasy'], ['Biography', 'Comedy', 'Drama'], ['Comedy', 'Drama', 'Thriller']]\n"
          ]
        }
      ]
    },
    {
      "cell_type": "code",
      "source": [
        "len(o1)"
      ],
      "metadata": {
        "colab": {
          "base_uri": "https://localhost:8080/"
        },
        "id": "CSNCTzeo0oC1",
        "outputId": "211d49c0-4274-4d63-9656-935d4da7a9a7"
      },
      "execution_count": 50,
      "outputs": [
        {
          "output_type": "execute_result",
          "data": {
            "text/plain": [
              "93"
            ]
          },
          "metadata": {},
          "execution_count": 50
        }
      ]
    },
    {
      "cell_type": "code",
      "source": [
        "words = []\n",
        "for k in o1:\n",
        "  for m in k: \n",
        "    if m not in words:\n",
        "      words.append(m)\n",
        "print(words)"
      ],
      "metadata": {
        "colab": {
          "base_uri": "https://localhost:8080/"
        },
        "id": "we8TvzTHgiD4",
        "outputId": "4bc3c467-1c3d-4747-863c-24ecf21902eb"
      },
      "execution_count": 38,
      "outputs": [
        {
          "output_type": "stream",
          "name": "stdout",
          "text": [
            "['Drama', 'Romance', 'War', 'Musical', 'Western', 'Comedy', 'Adventure', 'Biography', 'History', 'Mystery', 'Family', 'Music', 'Film-Noir', 'Crime', 'Thriller', 'Action', 'Sport', 'Fantasy']\n"
          ]
        }
      ]
    },
    {
      "cell_type": "code",
      "source": [
        "dic = {k:0 for k in words}\n",
        "print(dic)\n"
      ],
      "metadata": {
        "colab": {
          "base_uri": "https://localhost:8080/"
        },
        "id": "tDCqWgkPh_s2",
        "outputId": "ee8eb554-8b6e-4913-8cbd-28d277ec5fb3"
      },
      "execution_count": 39,
      "outputs": [
        {
          "output_type": "stream",
          "name": "stdout",
          "text": [
            "{'Drama': 0, 'Romance': 0, 'War': 0, 'Musical': 0, 'Western': 0, 'Comedy': 0, 'Adventure': 0, 'Biography': 0, 'History': 0, 'Mystery': 0, 'Family': 0, 'Music': 0, 'Film-Noir': 0, 'Crime': 0, 'Thriller': 0, 'Action': 0, 'Sport': 0, 'Fantasy': 0}\n"
          ]
        }
      ]
    },
    {
      "cell_type": "code",
      "source": [
        "for k in o1:\n",
        "  for m in k:\n",
        "    dic[m]+=1\n",
        "print(dic)"
      ],
      "metadata": {
        "colab": {
          "base_uri": "https://localhost:8080/"
        },
        "id": "NqyI8SqGj7dv",
        "outputId": "398f9a37-98db-4668-8b2e-ac8756bcdc7d"
      },
      "execution_count": 40,
      "outputs": [
        {
          "output_type": "stream",
          "name": "stdout",
          "text": [
            "{'Drama': 87, 'Romance': 25, 'War': 13, 'Musical': 8, 'Western': 3, 'Comedy': 16, 'Adventure': 11, 'Biography': 20, 'History': 13, 'Mystery': 2, 'Family': 6, 'Music': 1, 'Film-Noir': 2, 'Crime': 13, 'Thriller': 8, 'Action': 3, 'Sport': 3, 'Fantasy': 1}\n"
          ]
        }
      ]
    },
    {
      "cell_type": "code",
      "source": [],
      "metadata": {
        "id": "DZDmLkUEwzKe"
      },
      "execution_count": 40,
      "outputs": []
    },
    {
      "cell_type": "code",
      "source": [],
      "metadata": {
        "id": "Ee7bXHJtwzSh"
      },
      "execution_count": 40,
      "outputs": []
    },
    {
      "cell_type": "code",
      "source": [
        "o2 = o.str.split(',', expand=True)\n",
        "o2.rename(columns={\"0\": \"G1\", \"1\":\"G2\", \"2\": \"G2\"})"
      ],
      "metadata": {
        "colab": {
          "base_uri": "https://localhost:8080/",
          "height": 424
        },
        "id": "7abxbUXxwza5",
        "outputId": "c631b98e-7d5c-40ac-9fec-8c4a46dec078"
      },
      "execution_count": 54,
      "outputs": [
        {
          "output_type": "execute_result",
          "data": {
            "text/plain": [
              "             0        1         2\n",
              "0        Drama  Romance       War\n",
              "3        Drama  Musical   Romance\n",
              "8        Drama      War      None\n",
              "13       Drama  Western      None\n",
              "18       Drama  Romance      None\n",
              "..         ...      ...       ...\n",
              "520  Biography    Crime     Drama\n",
              "528      Drama     None      None\n",
              "537  Adventure    Drama   Fantasy\n",
              "546  Biography   Comedy     Drama\n",
              "554     Comedy    Drama  Thriller\n",
              "\n",
              "[93 rows x 3 columns]"
            ],
            "text/html": [
              "\n",
              "  <div id=\"df-ed198e8c-8f67-4471-ac2d-47d1687772e9\">\n",
              "    <div class=\"colab-df-container\">\n",
              "      <div>\n",
              "<style scoped>\n",
              "    .dataframe tbody tr th:only-of-type {\n",
              "        vertical-align: middle;\n",
              "    }\n",
              "\n",
              "    .dataframe tbody tr th {\n",
              "        vertical-align: top;\n",
              "    }\n",
              "\n",
              "    .dataframe thead th {\n",
              "        text-align: right;\n",
              "    }\n",
              "</style>\n",
              "<table border=\"1\" class=\"dataframe\">\n",
              "  <thead>\n",
              "    <tr style=\"text-align: right;\">\n",
              "      <th></th>\n",
              "      <th>0</th>\n",
              "      <th>1</th>\n",
              "      <th>2</th>\n",
              "    </tr>\n",
              "  </thead>\n",
              "  <tbody>\n",
              "    <tr>\n",
              "      <th>0</th>\n",
              "      <td>Drama</td>\n",
              "      <td>Romance</td>\n",
              "      <td>War</td>\n",
              "    </tr>\n",
              "    <tr>\n",
              "      <th>3</th>\n",
              "      <td>Drama</td>\n",
              "      <td>Musical</td>\n",
              "      <td>Romance</td>\n",
              "    </tr>\n",
              "    <tr>\n",
              "      <th>8</th>\n",
              "      <td>Drama</td>\n",
              "      <td>War</td>\n",
              "      <td>None</td>\n",
              "    </tr>\n",
              "    <tr>\n",
              "      <th>13</th>\n",
              "      <td>Drama</td>\n",
              "      <td>Western</td>\n",
              "      <td>None</td>\n",
              "    </tr>\n",
              "    <tr>\n",
              "      <th>18</th>\n",
              "      <td>Drama</td>\n",
              "      <td>Romance</td>\n",
              "      <td>None</td>\n",
              "    </tr>\n",
              "    <tr>\n",
              "      <th>...</th>\n",
              "      <td>...</td>\n",
              "      <td>...</td>\n",
              "      <td>...</td>\n",
              "    </tr>\n",
              "    <tr>\n",
              "      <th>520</th>\n",
              "      <td>Biography</td>\n",
              "      <td>Crime</td>\n",
              "      <td>Drama</td>\n",
              "    </tr>\n",
              "    <tr>\n",
              "      <th>528</th>\n",
              "      <td>Drama</td>\n",
              "      <td>None</td>\n",
              "      <td>None</td>\n",
              "    </tr>\n",
              "    <tr>\n",
              "      <th>537</th>\n",
              "      <td>Adventure</td>\n",
              "      <td>Drama</td>\n",
              "      <td>Fantasy</td>\n",
              "    </tr>\n",
              "    <tr>\n",
              "      <th>546</th>\n",
              "      <td>Biography</td>\n",
              "      <td>Comedy</td>\n",
              "      <td>Drama</td>\n",
              "    </tr>\n",
              "    <tr>\n",
              "      <th>554</th>\n",
              "      <td>Comedy</td>\n",
              "      <td>Drama</td>\n",
              "      <td>Thriller</td>\n",
              "    </tr>\n",
              "  </tbody>\n",
              "</table>\n",
              "<p>93 rows × 3 columns</p>\n",
              "</div>\n",
              "      <button class=\"colab-df-convert\" onclick=\"convertToInteractive('df-ed198e8c-8f67-4471-ac2d-47d1687772e9')\"\n",
              "              title=\"Convert this dataframe to an interactive table.\"\n",
              "              style=\"display:none;\">\n",
              "        \n",
              "  <svg xmlns=\"http://www.w3.org/2000/svg\" height=\"24px\"viewBox=\"0 0 24 24\"\n",
              "       width=\"24px\">\n",
              "    <path d=\"M0 0h24v24H0V0z\" fill=\"none\"/>\n",
              "    <path d=\"M18.56 5.44l.94 2.06.94-2.06 2.06-.94-2.06-.94-.94-2.06-.94 2.06-2.06.94zm-11 1L8.5 8.5l.94-2.06 2.06-.94-2.06-.94L8.5 2.5l-.94 2.06-2.06.94zm10 10l.94 2.06.94-2.06 2.06-.94-2.06-.94-.94-2.06-.94 2.06-2.06.94z\"/><path d=\"M17.41 7.96l-1.37-1.37c-.4-.4-.92-.59-1.43-.59-.52 0-1.04.2-1.43.59L10.3 9.45l-7.72 7.72c-.78.78-.78 2.05 0 2.83L4 21.41c.39.39.9.59 1.41.59.51 0 1.02-.2 1.41-.59l7.78-7.78 2.81-2.81c.8-.78.8-2.07 0-2.86zM5.41 20L4 18.59l7.72-7.72 1.47 1.35L5.41 20z\"/>\n",
              "  </svg>\n",
              "      </button>\n",
              "      \n",
              "  <style>\n",
              "    .colab-df-container {\n",
              "      display:flex;\n",
              "      flex-wrap:wrap;\n",
              "      gap: 12px;\n",
              "    }\n",
              "\n",
              "    .colab-df-convert {\n",
              "      background-color: #E8F0FE;\n",
              "      border: none;\n",
              "      border-radius: 50%;\n",
              "      cursor: pointer;\n",
              "      display: none;\n",
              "      fill: #1967D2;\n",
              "      height: 32px;\n",
              "      padding: 0 0 0 0;\n",
              "      width: 32px;\n",
              "    }\n",
              "\n",
              "    .colab-df-convert:hover {\n",
              "      background-color: #E2EBFA;\n",
              "      box-shadow: 0px 1px 2px rgba(60, 64, 67, 0.3), 0px 1px 3px 1px rgba(60, 64, 67, 0.15);\n",
              "      fill: #174EA6;\n",
              "    }\n",
              "\n",
              "    [theme=dark] .colab-df-convert {\n",
              "      background-color: #3B4455;\n",
              "      fill: #D2E3FC;\n",
              "    }\n",
              "\n",
              "    [theme=dark] .colab-df-convert:hover {\n",
              "      background-color: #434B5C;\n",
              "      box-shadow: 0px 1px 3px 1px rgba(0, 0, 0, 0.15);\n",
              "      filter: drop-shadow(0px 1px 2px rgba(0, 0, 0, 0.3));\n",
              "      fill: #FFFFFF;\n",
              "    }\n",
              "  </style>\n",
              "\n",
              "      <script>\n",
              "        const buttonEl =\n",
              "          document.querySelector('#df-ed198e8c-8f67-4471-ac2d-47d1687772e9 button.colab-df-convert');\n",
              "        buttonEl.style.display =\n",
              "          google.colab.kernel.accessAllowed ? 'block' : 'none';\n",
              "\n",
              "        async function convertToInteractive(key) {\n",
              "          const element = document.querySelector('#df-ed198e8c-8f67-4471-ac2d-47d1687772e9');\n",
              "          const dataTable =\n",
              "            await google.colab.kernel.invokeFunction('convertToInteractive',\n",
              "                                                     [key], {});\n",
              "          if (!dataTable) return;\n",
              "\n",
              "          const docLinkHtml = 'Like what you see? Visit the ' +\n",
              "            '<a target=\"_blank\" href=https://colab.research.google.com/notebooks/data_table.ipynb>data table notebook</a>'\n",
              "            + ' to learn more about interactive tables.';\n",
              "          element.innerHTML = '';\n",
              "          dataTable['output_type'] = 'display_data';\n",
              "          await google.colab.output.renderOutput(dataTable, element);\n",
              "          const docLink = document.createElement('div');\n",
              "          docLink.innerHTML = docLinkHtml;\n",
              "          element.appendChild(docLink);\n",
              "        }\n",
              "      </script>\n",
              "    </div>\n",
              "  </div>\n",
              "  "
            ]
          },
          "metadata": {},
          "execution_count": 54
        }
      ]
    },
    {
      "cell_type": "code",
      "source": [],
      "metadata": {
        "id": "fDXMUzphzMYh"
      },
      "execution_count": 41,
      "outputs": []
    },
    {
      "cell_type": "code",
      "source": [
        "frame = [o2[0],o2[1],o2[2]]"
      ],
      "metadata": {
        "id": "p_QL7H8ByXya"
      },
      "execution_count": 55,
      "outputs": []
    },
    {
      "cell_type": "code",
      "source": [
        "o3 = pd.concat(frame)"
      ],
      "metadata": {
        "id": "SukRc85LzFRI"
      },
      "execution_count": 56,
      "outputs": []
    },
    {
      "cell_type": "code",
      "source": [
        "o3.value_counts()"
      ],
      "metadata": {
        "colab": {
          "base_uri": "https://localhost:8080/"
        },
        "id": "DR3lQ90Rzail",
        "outputId": "65461b73-9547-4572-a237-ba4b572fc344"
      },
      "execution_count": 57,
      "outputs": [
        {
          "output_type": "execute_result",
          "data": {
            "text/plain": [
              "Drama        87\n",
              "Romance      25\n",
              "Biography    20\n",
              "Comedy       16\n",
              "Crime        13\n",
              "War          13\n",
              "History      13\n",
              "Adventure    11\n",
              "Thriller      8\n",
              "Musical       8\n",
              "Family        6\n",
              "Sport         3\n",
              "Western       3\n",
              "Action        3\n",
              "Film-Noir     2\n",
              "Mystery       2\n",
              "Music         1\n",
              "Fantasy       1\n",
              "dtype: int64"
            ]
          },
          "metadata": {},
          "execution_count": 57
        }
      ]
    },
    {
      "cell_type": "code",
      "source": [],
      "metadata": {
        "id": "-IKq47dvwzim"
      },
      "execution_count": 44,
      "outputs": []
    }
  ]
}